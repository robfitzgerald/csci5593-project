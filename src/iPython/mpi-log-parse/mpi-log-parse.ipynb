{
 "cells": [
  {
   "cell_type": "markdown",
   "metadata": {},
   "source": [
    "### MPI Log Parse\n",
    "\n",
    "This code will take a log file dump from one of our MPI Tests and average the `timeDelta` column for rows with a common `testName`. It will produce a file of the form\n",
    "\n",
    "```\n",
    "testName,timeDelta\n",
    "```\n",
    "\n",
    "Note: this resulting file may contain rows with duplicate `testName` entries.  In our Baseline test, those duplicates had the exact same value and could be disgarded.\n",
    "\n",
    "There may be corrupted lines, though their appearance appears to be irregular in our test cases.  The following Regex will help you identify malformed data lines manually in a text editor:\n",
    "\n",
    "```Regex\n",
    "^(?!.*,.*,.*,.*,.*,.*).*$\n",
    "```"
   ]
  },
  {
   "cell_type": "code",
   "execution_count": 1,
   "metadata": {
    "collapsed": true
   },
   "outputs": [],
   "source": [
    "import pandas as pd\n",
    "import numpy as np"
   ]
  },
  {
   "cell_type": "code",
   "execution_count": 50,
   "metadata": {
    "collapsed": true
   },
   "outputs": [],
   "source": [
    "testNameColumn = 'testName'\n",
    "originColumn = 'thisID'\n",
    "destinationColumn = 'thatID'\n",
    "timeColumn = 'timeDelta'\n",
    "\n",
    "inFileName = 'data-source/monteCarloPi/20170501-17-11-mcpi-1000000.csv'\n",
    "outFileName = 'data-result/mcpi-parsed-1mil-02.csv'"
   ]
  },
  {
   "cell_type": "code",
   "execution_count": 51,
   "metadata": {
    "collapsed": false
   },
   "outputs": [],
   "source": [
    "completeData = pd.read_csv(inFileName, comment='#')\n",
    "\n",
    "# remove lines that aren't data we need\n",
    "completeData = completeData[completeData[testNameColumn].str.contains('^[0-9]+n*-[0-9]+p*.*$')]\n",
    "completeData[timeColumn] = completeData[timeColumn].astype(float)\n",
    "\n",
    "# uncomment to check your input data\n",
    "# completeData"
   ]
  },
  {
   "cell_type": "code",
   "execution_count": null,
   "metadata": {
    "collapsed": false
   },
   "outputs": [],
   "source": [
    "testNames = np.unique(completeData[testNameColumn].values)\n",
    "testNamesOutput = []\n",
    "averages = []\n",
    "for testName in testNames:\n",
    "    data = completeData[completeData[testNameColumn].str.contains(testName)]\n",
    "    procs = np.unique(data[originColumn].values)\n",
    "    for proc in procs:\n",
    "        otherProcs = np.delete(procs, proc)\n",
    "        for otherProc in otherProcs:\n",
    "            values = data[(data[originColumn] == proc) & \n",
    "                          (data[destinationColumn] == otherProc) | \n",
    "                          (data[destinationColumn] == proc) & \n",
    "                          (data[originColumn] == otherProc)]\n",
    "            average = 0.0;\n",
    "            if values.size > 0:\n",
    "                average = (float) (values[timeColumn].sum()) / values.size\n",
    "            testNamesOutput = np.append(testNamesOutput, testName)\n",
    "            averages = np.append(averages, average)\n",
    "\n",
    "dfData = {testNameColumn: testNamesOutput, timeColumn: averages}\n",
    "outputDF = pd.DataFrame(dfData)\n",
    "outputDF.columns = [testNameColumn, timeColumn]\n",
    "outputDF.to_csv(\"\" + outFileName)\n",
    "print(outFileName + \" saved\")"
   ]
  },
  {
   "cell_type": "code",
   "execution_count": null,
   "metadata": {
    "collapsed": true
   },
   "outputs": [],
   "source": []
  }
 ],
 "metadata": {
  "kernelspec": {
   "display_name": "Python 3",
   "language": "python",
   "name": "python3"
  },
  "language_info": {
   "codemirror_mode": {
    "name": "ipython",
    "version": 3
   },
   "file_extension": ".py",
   "mimetype": "text/x-python",
   "name": "python",
   "nbconvert_exporter": "python",
   "pygments_lexer": "ipython3",
   "version": "3.5.3"
  }
 },
 "nbformat": 4,
 "nbformat_minor": 2
}
