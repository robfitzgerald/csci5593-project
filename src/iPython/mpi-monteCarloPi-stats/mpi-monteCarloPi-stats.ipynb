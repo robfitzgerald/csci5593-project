{
 "cells": [
  {
   "cell_type": "markdown",
   "metadata": {},
   "source": [
    "## Monte Carlo Pi Statistics Generator\n",
    "\n",
    "expects two test types with the following `testName` conventions:\n",
    "\n",
    "#### Increased Nodes\n",
    "```\n",
    "^(?:[0-9]+)(?:-[0-9]+)*$\n",
    "```\n",
    "\n",
    "example: \"2-4\", \"1-3-4\"\n",
    "\n",
    "#### Increased Processes\n",
    "\n",
    "```\n",
    "^[0-9]+n-[0-9]+p$\n",
    "```\n",
    "\n",
    "example: \"2n-4p\""
   ]
  },
  {
   "cell_type": "code",
   "execution_count": 97,
   "metadata": {
    "collapsed": true
   },
   "outputs": [],
   "source": [
    "import re\n",
    "import pandas as pd\n",
    "import numpy as np"
   ]
  },
  {
   "cell_type": "code",
   "execution_count": 105,
   "metadata": {
    "collapsed": false
   },
   "outputs": [],
   "source": [
    "def extractNodes(testName):\n",
    "    matches = list(filter(lambda n: n.isnumeric(), re.split('([0-9]+)', testName)))\n",
    "    return \"\" + str(len(matches)) + \"n\"\n",
    "\n",
    "def extractProcs(testName):\n",
    "    matches = list(filter(lambda n: n.isnumeric(), re.split('([0-9]+)', testName)))\n",
    "    return \"\" + matches[len(matches) - 1] + \"p\""
   ]
  },
  {
   "cell_type": "code",
   "execution_count": 119,
   "metadata": {
    "collapsed": true
   },
   "outputs": [],
   "source": [
    "testNameColumn = 'testName'\n",
    "originColumn = 'thisID'\n",
    "destinationColumn = 'thatID'\n",
    "timeColumn = 'timeDelta'\n",
    "\n",
    "inputFile = \"data-source/mcpi-parsed-1mil-01.csv\"\n",
    "outputFile = \"data-result/mcpi-stats-1mil-01.csv\""
   ]
  },
  {
   "cell_type": "code",
   "execution_count": 120,
   "metadata": {
    "collapsed": false
   },
   "outputs": [],
   "source": [
    "data = pd.read_csv(inputFile,\n",
    "                   index_col=0,\n",
    "                   dtype={timeColumn: np.float64},\n",
    "                   comment='#')"
   ]
  },
  {
   "cell_type": "code",
   "execution_count": 121,
   "metadata": {
    "collapsed": false
   },
   "outputs": [],
   "source": [
    "data = data[data['timeDelta'] != 0.0]\n",
    "testNames = np.unique(data[testNameColumn].values)\n",
    "result = pd.DataFrame()\n",
    "for test in testNames:\n",
    "    testTitle = extractNodes(test) if re.search('^(?:[0-9]+)(?:-[0-9]+)*$', test) else extractProcs(test)\n",
    "    testData = data[data[testNameColumn] == test]\n",
    "    testSum = testData[timeColumn].sum()\n",
    "    testMin = testData[timeColumn].min()\n",
    "    testMax = testData[timeColumn].max()\n",
    "    testMean = testData[timeColumn].mean()\n",
    "    testStd = testData[timeColumn].std()\n",
    "    thisRowData = {\"min\": testMin, \"max\": testMax, \"mean\": testMean, \"std\": testStd}\n",
    "    thisRow = pd.DataFrame(thisRowData, index=[testTitle])\n",
    "    result = result.append(thisRow)\n",
    "result.to_csv(outputFile)"
   ]
  },
  {
   "cell_type": "code",
   "execution_count": null,
   "metadata": {
    "collapsed": true
   },
   "outputs": [],
   "source": []
  }
 ],
 "metadata": {
  "kernelspec": {
   "display_name": "Python 3",
   "language": "python",
   "name": "python3"
  },
  "language_info": {
   "codemirror_mode": {
    "name": "ipython",
    "version": 3
   },
   "file_extension": ".py",
   "mimetype": "text/x-python",
   "name": "python",
   "nbconvert_exporter": "python",
   "pygments_lexer": "ipython3",
   "version": "3.5.3"
  }
 },
 "nbformat": 4,
 "nbformat_minor": 2
}
