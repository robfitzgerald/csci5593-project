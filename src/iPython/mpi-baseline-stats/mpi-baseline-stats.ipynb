{
 "cells": [
  {
   "cell_type": "markdown",
   "metadata": {},
   "source": [
    "### MPI Stats\n",
    "\n",
    "This file expects the output of mpi-log-parse, and will calculate generic statistics for each node pair."
   ]
  },
  {
   "cell_type": "code",
   "execution_count": 2,
   "metadata": {
    "collapsed": true
   },
   "outputs": [],
   "source": [
    "import pandas as pd\n",
    "import numpy as np"
   ]
  },
  {
   "cell_type": "code",
   "execution_count": 20,
   "metadata": {
    "collapsed": true
   },
   "outputs": [],
   "source": [
    "testNameColumn = 'testName'\n",
    "originColumn = 'thisID'\n",
    "destinationColumn = 'thatID'\n",
    "timeColumn = 'timeDelta'\n",
    "\n",
    "inputFile = \"data-source/monteCarloPi/mcpi-parsed-01.csv\"\n",
    "outputFile = \"data-result/mcpi-stats-01.csv\""
   ]
  },
  {
   "cell_type": "code",
   "execution_count": 21,
   "metadata": {
    "collapsed": false
   },
   "outputs": [],
   "source": [
    "data = pd.read_csv(inputFile,\n",
    "                   index_col=0,\n",
    "                   dtype={timeColumn: np.float64},\n",
    "                   comment='#')"
   ]
  },
  {
   "cell_type": "code",
   "execution_count": 22,
   "metadata": {
    "collapsed": true
   },
   "outputs": [],
   "source": [
    "averages = []\n",
    "origins = []\n",
    "destinations = []\n",
    "result = pd.DataFrame()\n",
    "for testNum in range(2, 17):\n",
    "    index = str(testNum) + '-'\n",
    "    testData = data[data[testNameColumn].str.contains(index)]\n",
    "    testSum = testData[timeColumn].sum()\n",
    "    testMin = testData[timeColumn].min()\n",
    "    testMax = testData[timeColumn].max()\n",
    "    testMean = testData[timeColumn].mean()\n",
    "    testStd = testData[timeColumn].std()\n",
    "    thisRowData = {\"node\": testNum, \"min\": testMin, \"max\": testMax, \"mean\": testMean, \"std\": testStd}\n",
    "    thisRow = pd.DataFrame(thisRowData, index=[testNum])\n",
    "    result = result.append(thisRow)\n",
    "result.to_csv(outputFile)"
   ]
  }
 ],
 "metadata": {
  "kernelspec": {
   "display_name": "Python 3",
   "language": "python",
   "name": "python3"
  },
  "language_info": {
   "codemirror_mode": {
    "name": "ipython",
    "version": 3
   },
   "file_extension": ".py",
   "mimetype": "text/x-python",
   "name": "python",
   "nbconvert_exporter": "python",
   "pygments_lexer": "ipython3",
   "version": "3.5.3"
  }
 },
 "nbformat": 4,
 "nbformat_minor": 2
}
